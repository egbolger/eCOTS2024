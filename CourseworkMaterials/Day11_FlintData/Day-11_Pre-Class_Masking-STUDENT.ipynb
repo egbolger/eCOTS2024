{
 "cells": [
  {
   "cell_type": "markdown",
   "id": "627dd662-b55d-4ce8-b5ca-072d17c471bc",
   "metadata": {},
   "source": [
    "# Day 11 Pre-class Assignment: Normal Distributions, Masking, and Log Plots\n",
    "\n",
    "<img src=\"https://cdn.scribbr.com/wp-content/uploads/2020/10/standard-normal-distribution.png\" width=\"600px\" align=\"left\">     \n",
    "<img src=\"https://cf.ltkcdn.net/costumes/images/std-xs/96214-283x424-Phantommask2.webp\" width=\"200px\" align=\"right\">\n"
   ]
  },
  {
   "cell_type": "markdown",
   "id": "987f80db-741e-4da3-9674-2909f8c868d6",
   "metadata": {},
   "source": [
    "### <p style=\"text-align: right;\"> &#9989; Put your name here</p>"
   ]
  },
  {
   "cell_type": "markdown",
   "id": "3925a802-d4f2-4720-9c81-8b009eec85ad",
   "metadata": {},
   "source": [
    "## Goals for today's pre-class assignment\n",
    "\n",
    "* Working with the descriptive statistics and visualizations of Normal Distributions\n",
    "* Practice using masks with NumPy arrays\n",
    "* Interpreting Log Plots\n",
    "\n",
    "\n",
    "## Assignment instructions\n",
    "\n",
    "**This assignment is due by 11:59 p.m. the day before class,** and should be uploaded into the appropriate \"Pre-class assignments\" submission folder.  If you run into issues with your code, make sure to use Slack to help each other out and receive some assistance from the instructors. Submission instructions can be found at the end of the notebook."
   ]
  },
  {
   "cell_type": "markdown",
   "id": "5451775e-436f-4945-b52f-33d723859d19",
   "metadata": {},
   "source": [
    "---\n",
    "## 1. Normal Distributions \n",
    "In today’s assignment we will be talking about the **Normal** (or Gaussian) **distribution.** A normal distribution of values looks something like this:"
   ]
  },
  {
   "cell_type": "code",
   "execution_count": null,
   "id": "657f4759-e25d-4b48-ab37-a7e6b4990dab",
   "metadata": {},
   "outputs": [],
   "source": [
    "import matplotlib.pyplot as plt\n",
    "import numpy as np\n",
    "\n",
    "N_points = 100000\n",
    "mean=10.0\n",
    "stand_dev = 1.0\n",
    "\n",
    "n_bins = 20\n",
    "\n",
    "x = np.random.normal(mean,stand_dev,N_points)\n",
    "plt.hist(x, bins=n_bins);"
   ]
  },
  {
   "cell_type": "markdown",
   "id": "60fd0352-8c63-40c7-be97-4e5d7d01ac5a",
   "metadata": {},
   "source": [
    "Which you may have seen before (it’s also called a *bell curve*). Normal distributions are very important in statistics, primarily because **most distributions eventually become Normal distributions if you collect enough samples** (this is called the Central Limit Theorem)."
   ]
  },
  {
   "cell_type": "markdown",
   "id": "78f84514-7559-42fa-9d5d-3b8f846de382",
   "metadata": {},
   "source": [
    "### 1.1 \n",
    "Change the number of data points (`N_points`) and plot the resulting distribution. Make four subplots (using `plt.subplot()`), showing distributions for `N_points`= 10, 100, 1000, and 10000. (Use `mean`=10.0  and `stand_dev` = 1.0)"
   ]
  },
  {
   "cell_type": "code",
   "execution_count": null,
   "id": "3a3f7a5b-f65b-4a9a-bbd8-c18f0c0b400e",
   "metadata": {},
   "outputs": [],
   "source": [
    "# Insert your code here\n"
   ]
  },
  {
   "cell_type": "markdown",
   "id": "f57d9ccb-30be-4bc9-afe7-2550c47d9cc0",
   "metadata": {},
   "source": [
    "### 1.2 \n",
    "What do you notice about how the shape of the distribution changes as you use more data points?"
   ]
  },
  {
   "cell_type": "markdown",
   "id": "72487677-aa20-41ec-8326-5bd25125002e",
   "metadata": {},
   "source": [
    "<font size=\"+3\" color=\"green\">&#9998;</font> *Write your answer here*"
   ]
  },
  {
   "cell_type": "markdown",
   "id": "00153b8e-3b9b-4903-bd80-c30cab2acea9",
   "metadata": {},
   "source": [
    "### 1.3 \n",
    "Run your code above again, so you get a new set of data points for your plots. What do you notice about how the different plots change when you pick new data points?"
   ]
  },
  {
   "cell_type": "markdown",
   "id": "81e47994-1b42-4d45-b176-f252e1e589b9",
   "metadata": {},
   "source": [
    "<font size=\"+3\" color=\"green\">&#9998;</font> *Write your answer here*"
   ]
  },
  {
   "cell_type": "markdown",
   "id": "eb0d181e-d637-45f4-a450-03a3e4a280f5",
   "metadata": {},
   "source": [
    "Let’s talk about the important properties of a Normal distribution.\n",
    "\n",
    "### 1.4 Mean & Median\n",
    "Make four distributions (using `N_points` = 100000 and `stand_dev`=1.0) with means of 0.0, 1.0, 5.0, 10.0. For each distribution, calculate the mean and median values."
   ]
  },
  {
   "cell_type": "code",
   "execution_count": null,
   "id": "28bcfeaa-74a0-422b-932c-50d3f7809b53",
   "metadata": {},
   "outputs": [],
   "source": [
    "# Insert your code here\n"
   ]
  },
  {
   "cell_type": "markdown",
   "id": "86b07a21-d195-4059-aee3-bc9c088a9dce",
   "metadata": {},
   "source": [
    "### 1.5 \n",
    "What do you notice about the mean and median values for the four distributions? How do they compare to one another?"
   ]
  },
  {
   "cell_type": "markdown",
   "id": "c5a2c48b-74ea-467c-a228-ea1888c59872",
   "metadata": {},
   "source": [
    "<font size=\"+3\" color=\"green\">&#9998;</font> *Write your answer here*"
   ]
  },
  {
   "cell_type": "markdown",
   "id": "24d77af4-9cfa-4142-8207-750777f1406d",
   "metadata": {},
   "source": [
    "### 1.6 Standard Deviation\n",
    "Make four distributions (using `N_points` = 100000 and `mean`=10.0) with standard deviations of 0.5, 1.0, 5.0, and 10.0. Make four subplots showing each of the distributions. "
   ]
  },
  {
   "cell_type": "code",
   "execution_count": null,
   "id": "b220d0a2-fd0f-43f3-8987-ac3e4550e50d",
   "metadata": {},
   "outputs": [],
   "source": [
    "# Insert your code here\n"
   ]
  },
  {
   "cell_type": "markdown",
   "id": "b4078e0e-5697-43c3-aa15-e1011af7d913",
   "metadata": {},
   "source": [
    "### 1.7\n",
    "What do you notice about the shape of the five distributions? How do they compare to one another? What effect does changing the standard deviation have on the distributions? **NOTE: If you don't notice a difference right away, try setting `xlim` to $[-40,40]$ for each subplot** \n"
   ]
  },
  {
   "cell_type": "markdown",
   "id": "394120eb-c5d7-4ca0-bae2-22cfa83c4183",
   "metadata": {},
   "source": [
    "<font size=\"+3\" color=\"green\">&#9998;</font> *Write your answer here*"
   ]
  },
  {
   "cell_type": "markdown",
   "id": "e846964e-fa2b-42be-94ce-536685bc3126",
   "metadata": {},
   "source": [
    "---\n",
    "## 2. Masking\n",
    "\n",
    "Masking is an extremely important and absurdly useful tool that we will be adding to our coding tool box. Fundamentally, **\"masking\" is a process that allows us to select specific parts of our data that meet some condition.** Let’s work through some examples, to better understand what this means.\n",
    "\n",
    "Let’s start by looking at the random set of numbers."
   ]
  },
  {
   "cell_type": "code",
   "execution_count": null,
   "id": "c40c30e7-921a-4384-aba5-ed2d205912a7",
   "metadata": {},
   "outputs": [],
   "source": [
    "vals = np.array([3, 11, 6, 9, 7, 12, 8, 11, 5, 3, 15, 13])"
   ]
  },
  {
   "cell_type": "markdown",
   "id": "2d9767a2-9ae7-4e9f-b9bb-c30ebd93ead4",
   "metadata": {},
   "source": [
    "### 2.1\n",
    "Write a piece of code that uses a `for` loop and an `if` statement to identify all values of `vals` that are above 8. Append the values that meet this condition to a new list and print them out."
   ]
  },
  {
   "cell_type": "code",
   "execution_count": null,
   "id": "a0c5e312-5bcb-4dd8-8a6a-d94d9966863c",
   "metadata": {},
   "outputs": [],
   "source": [
    "# Insert your code here\n"
   ]
  },
  {
   "cell_type": "markdown",
   "id": "4fc185df-e9ba-4e22-a598-cca5be337c5f",
   "metadata": {},
   "source": [
    "What we just did was select a subset of our data; specifically, all values in `vals` greater than 8. Now, let’s do the same thing using *masking*. The code below creates a mask and then uses that mask to select all of the data points that meet our condition."
   ]
  },
  {
   "cell_type": "code",
   "execution_count": null,
   "id": "aacd0ae5-ee85-4f3d-a923-38c3e5a0347d",
   "metadata": {},
   "outputs": [],
   "source": [
    "mask = vals > 8\n",
    "vals_masked = vals[mask]"
   ]
  },
  {
   "cell_type": "markdown",
   "id": "686af36b-c445-4cb6-ab71-415bd70b20e4",
   "metadata": {},
   "source": [
    "### 2.2 \n",
    "Let’s break this code down, piece by piece. First, write a piece of code that prints `mask`. "
   ]
  },
  {
   "cell_type": "code",
   "execution_count": null,
   "id": "c138b330-4fd0-4fd8-af9c-3b1f0e8ddfeb",
   "metadata": {},
   "outputs": [],
   "source": [
    "# Insert your code here\n"
   ]
  },
  {
   "cell_type": "markdown",
   "id": "1e182d68-06af-41f9-984c-e7a7c65e20d9",
   "metadata": {},
   "source": [
    "### 2.3 \n",
    "You should see a list of Boolean values (`True` or `False`). Compare your `mask` values to the values of `vals`. What do you notice?"
   ]
  },
  {
   "cell_type": "markdown",
   "id": "d8e8b458-9001-4dd9-897e-b7ffb3c4024a",
   "metadata": {},
   "source": [
    "<font size=\"+3\" color=\"green\">&#9998;</font> *Write your answer here*"
   ]
  },
  {
   "cell_type": "markdown",
   "id": "bfdef9ad-caa2-4738-bb3b-69239946603a",
   "metadata": {},
   "source": [
    "### 2.4 \n",
    "Now print out the values of `vals_masked`. "
   ]
  },
  {
   "cell_type": "code",
   "execution_count": null,
   "id": "c46fdd02-8d0f-4c66-925d-4298af837c1d",
   "metadata": {},
   "outputs": [],
   "source": [
    "# Insert your code here\n"
   ]
  },
  {
   "cell_type": "markdown",
   "id": "b890851b-4d30-4227-955d-d1acc2646757",
   "metadata": {},
   "source": [
    "### 2.5 \n",
    "\n",
    "What values does `vals_masked` contain? How are these values connected to `vals`, `mask`, and the list that you created in 2.1?"
   ]
  },
  {
   "cell_type": "markdown",
   "id": "8977acb3-b480-402e-be3d-fcd07b570df2",
   "metadata": {},
   "source": [
    "<font size=\"+3\" color=\"green\">&#9998;</font> *Write your answer here*"
   ]
  },
  {
   "cell_type": "markdown",
   "id": "7cfbcc05-af1b-4c97-bc42-835b9795c0d9",
   "metadata": {},
   "source": [
    "### 2.6 \n",
    "Try tinkering with the mask generation code (line 1 from the cell in 2.1) by changing the condition (e.g., values below 8, values above 11, etc.). Print out the `mask` and `vals_masked` values for each one to convince yourself that the \"masks\" you create match your expectations. "
   ]
  },
  {
   "cell_type": "code",
   "execution_count": null,
   "id": "7c7f583f-1832-44ff-8a68-0d5ec0f16ca9",
   "metadata": {},
   "outputs": [],
   "source": [
    "# Insert code here\n"
   ]
  },
  {
   "cell_type": "markdown",
   "id": "34ba4155-3952-4edc-8f93-a0992fc8b39a",
   "metadata": {},
   "source": [
    "### 2.7 \n",
    "Take a moment and reflect. What is a mask? What does the process of masking data or values do? "
   ]
  },
  {
   "cell_type": "markdown",
   "id": "b60213ea-beae-4d65-b749-6d00a2ea216c",
   "metadata": {},
   "source": [
    "<font size=\"+3\" color=\"green\">&#9998;</font> *Write your answer here*"
   ]
  },
  {
   "cell_type": "markdown",
   "id": "5da944ea-46b4-4107-a537-8fcf85cf3d73",
   "metadata": {},
   "source": [
    "### 2.8 \n",
    "Before moving on, explain the concept of masking as if you were talking to someone who has never coded before."
   ]
  },
  {
   "cell_type": "markdown",
   "id": "2f16e539-3f15-4fe0-a983-c962d365ca22",
   "metadata": {},
   "source": [
    "<font size=\"+3\" color=\"green\">&#9998;</font> *Write your answer here*"
   ]
  },
  {
   "cell_type": "markdown",
   "id": "ef0af240-58ee-44b7-98a6-daca701dbc00",
   "metadata": {},
   "source": [
    "---\n",
    "## 3. Interpreting Log Plots\n",
    "\n",
    "For this next exercise, we will explore the utility and interpretation of **log plots**. We’re quite used to **linear plots** at this point; these are plots where the space between 1 and 2 is the same as it is between 3 and 4 (or 8 and 9 or 800 and 801). The step size is linear, hence the name.\n",
    "\n",
    "In a log plot, though, the space between 1 and 2 is the same as the space between 2 and ***4*** (or 4 and 8 or 800 and 1600). In a log plot, the step size is *multiplicative* (e.g., all of the previous examples increased by a factor of 2).  \n",
    "\n",
    "Log plots are useful when you have a **large dynamic range.** That is, when the difference between the smallest thing you care about and the largest thing you care about is **BIG.**\n",
    "\n",
    "Let’s take another look at the economic data you explored in a previous in-class assignment. The filename is `GDP_Cleaned.csv`, and you can find it on the course website. (as the name suggests, we’ve cleaned up the dataset for you compared to the one you worked with in class).\n",
    "\n"
   ]
  },
  {
   "cell_type": "markdown",
   "id": "eb23233a-12e5-4cd1-ba0d-2d62426bc4ab",
   "metadata": {},
   "source": [
    "### 3.1 \n",
    "Use Pandas to read in `GDP_Cleaned.csv` and then display the first few lines (remember which Pandas function does that?)"
   ]
  },
  {
   "cell_type": "code",
   "execution_count": null,
   "id": "37974efa-a1eb-471f-bfd8-ca39213e8021",
   "metadata": {},
   "outputs": [],
   "source": [
    "# Write your code here\n"
   ]
  },
  {
   "cell_type": "markdown",
   "id": "17bea5e4-1c72-453c-88ee-86ab6ddaf35c",
   "metadata": {},
   "source": [
    "### 3.2\n",
    "Make a plot of the GDP versus time (Year) for both the United States and Bangladesh."
   ]
  },
  {
   "cell_type": "code",
   "execution_count": null,
   "id": "de9e97e6-66bd-427a-931f-2c26c4b05f5c",
   "metadata": {},
   "outputs": [],
   "source": [
    "# Write your code here\n"
   ]
  },
  {
   "cell_type": "markdown",
   "id": "6d6bd604-5383-4eaf-8732-e7bda2b3a1e1",
   "metadata": {},
   "source": [
    "### 3.3 \n",
    "Based on what you see in this plot, what can you say about the growth of the economy in Bangladesh?"
   ]
  },
  {
   "cell_type": "markdown",
   "id": "fa7a5280-810a-4648-b456-eddda1bee3ff",
   "metadata": {},
   "source": [
    "<font size=\"+3\" color=\"green\">&#9998;</font> *Write your answer here*"
   ]
  },
  {
   "cell_type": "markdown",
   "id": "4add1e83-1b6d-410f-88e5-620d1e1adece",
   "metadata": {},
   "source": [
    "### 3.4 \n",
    "Now remake the same plot, but this time use the `plt.yscale()` function set the y-axis to be logarithmic (i.e. \"log\") (If you're not sure how to use `plt.yscale()` you should take a look at the documentation)."
   ]
  },
  {
   "cell_type": "code",
   "execution_count": null,
   "id": "e6b181be-c2b1-477a-b0dd-2b2ea8c4c8e8",
   "metadata": {},
   "outputs": [],
   "source": [
    "#Write your code here"
   ]
  },
  {
   "cell_type": "markdown",
   "id": "fd8cfd01-a04b-4341-895d-b7a16b88726d",
   "metadata": {},
   "source": [
    "### 3.5 \n",
    "Using the log-plot, what can you say about the growth of the economy in Bangladesh? Use the plot to read off the starting and ending values (i.e., the economy of Bangladesh in 1960 and 2021)."
   ]
  },
  {
   "cell_type": "markdown",
   "id": "9f048738-baf3-4352-967b-aa0b81cfb86e",
   "metadata": {},
   "source": [
    "<font size=\"+3\" color=\"green\">&#9998;</font> *Write your answer here*"
   ]
  },
  {
   "cell_type": "markdown",
   "id": "1aab8eeb-0eea-4c4f-9820-0d0386b7dd3c",
   "metadata": {},
   "source": [
    "### 3.6\n",
    "Now try setting `xscale` to be log as well using `plt.xscale()`."
   ]
  },
  {
   "cell_type": "code",
   "execution_count": null,
   "id": "305e11ec-695a-422e-82af-37d660aa72e4",
   "metadata": {},
   "outputs": [],
   "source": [
    "# Write your code here\n"
   ]
  },
  {
   "cell_type": "markdown",
   "id": "149497cb-6cca-4448-83b6-52e757e541e5",
   "metadata": {},
   "source": [
    "### 3.7\n",
    "What do you notice? How large is the dynamic range of the x-axis values (i.e., by what multiplicative value does the x-values increase?)\n",
    "\n",
    "Does it make sense to use a log-scale on the x-axis?"
   ]
  },
  {
   "cell_type": "markdown",
   "id": "060158a8-25f2-40c1-b9ca-f4e996cbbb99",
   "metadata": {},
   "source": [
    "<font size=\"+3\" color=\"green\">&#9998;</font> *Write your answer here*"
   ]
  },
  {
   "cell_type": "markdown",
   "id": "e1bce551",
   "metadata": {},
   "source": [
    "---\n",
    "## Follow-up Questions\n",
    "\n",
    "Copy and paste the following questions into the appropriate box in the assignment survey include below and answer them there. (Note: You'll have to fill out the section number and the assignment number and go to the \"NEXT\" section of the survey to paste in these questions.)\n",
    "\n",
    "1. In your own words, what does the standard deviation tells us about the shape of the distribution of values when the standard deviation is small versus large?\n",
    "\n",
    "2. In your own words, explain why we might use a \"mask\" when working with data.\n",
    "\n",
    "3. When visualizing data, when might it make sense to use a logarithmic (\"log\") scale?"
   ]
  },
  {
   "cell_type": "markdown",
   "id": "5c91c576-8f45-4242-9a93-b6fb224a928d",
   "metadata": {},
   "source": [
    "---\n",
    "## Assignment wrap-up\n",
    "\n",
    "Please fill out the form that appears when you run the code below.  **You must completely fill this out in order to receive credit for the assignment!**"
   ]
  },
  {
   "cell_type": "code",
   "execution_count": null,
   "id": "5befceec-9ee5-432b-a755-ee0fc39a9450",
   "metadata": {},
   "outputs": [],
   "source": [
    "from IPython.display import HTML\n",
    "HTML(\n",
    "\"\"\"\n",
    "<iframe \n",
    "\tsrc=\"https://cmse.msu.edu/cmse201-pc-survey\" \n",
    "\twidth=\"800px\" \n",
    "\theight=\"600px\" \n",
    "\tframeborder=\"0\" \n",
    "\tmarginheight=\"0\" \n",
    "\tmarginwidth=\"0\">\n",
    "\tLoading...\n",
    "</iframe>\n",
    "\"\"\"\n",
    ")"
   ]
  },
  {
   "cell_type": "markdown",
   "id": "69d9f732-20c2-4f3e-86c7-924242d4a4ae",
   "metadata": {},
   "source": [
    "### Congratulations, you're done!\n",
    "\n",
    "Submit this assignment by uploading it to the course Desire2Learn web page.  Go to the \"Pre-class assignments\" folder, find the appropriate submission link, and upload it there.\n",
    "\n",
    "See you in class!"
   ]
  },
  {
   "cell_type": "markdown",
   "id": "0c23b5c5",
   "metadata": {},
   "source": [
    "-----------\n",
    "### Acknowledgements\n",
    "\n",
    "Main Contributors of this work: Rachel Frisbie  "
   ]
  },
  {
   "cell_type": "markdown",
   "id": "ad62082c-16bd-4cd1-924e-d8ca12e1ca4c",
   "metadata": {},
   "source": [
    "&#169; Copyright 2023,  The Department of Computational Mathematics, Science and Engineering."
   ]
  }
 ],
 "metadata": {
  "kernelspec": {
   "display_name": "Python 3 (ipykernel)",
   "language": "python",
   "name": "python3"
  },
  "language_info": {
   "codemirror_mode": {
    "name": "ipython",
    "version": 3
   },
   "file_extension": ".py",
   "mimetype": "text/x-python",
   "name": "python",
   "nbconvert_exporter": "python",
   "pygments_lexer": "ipython3",
   "version": "3.9.7"
  }
 },
 "nbformat": 4,
 "nbformat_minor": 5
}
